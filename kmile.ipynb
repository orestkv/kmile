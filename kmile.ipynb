
unit = input("km or Mile: ")

amount = float(input("Amount: "))


